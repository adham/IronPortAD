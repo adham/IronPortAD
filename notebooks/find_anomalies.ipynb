{
 "cells": [
  {
   "cell_type": "code",
   "execution_count": 1,
   "metadata": {},
   "outputs": [],
   "source": [
    "from utils import *"
   ]
  },
  {
   "cell_type": "code",
   "execution_count": 2,
   "metadata": {},
   "outputs": [],
   "source": [
    "feature_labels = [\n",
    "    'number of sent emails',\n",
    "    'statistics of sent emails\\' size',\n",
    "    'statistics of sent emails\\' size',\n",
    "    'statistics of sent emails\\' size',\n",
    "    'statistics of sent emails\\' size',\n",
    "    'statistics of number of recipients',\n",
    "    'statistics of number of recipients',\n",
    "    'statistics of number of recipients',\n",
    "    'statistics of number of recipients',\n",
    "    'number of unique recipients',\n",
    "    'proportion of emails sent to telstra',\n",
    "    'proportion of emails sent to outsie telstra',\n",
    "    'number of received emails',\n",
    "    'statistics of received emails\\' size',\n",
    "    'statistics of received emails\\' size',\n",
    "    'statistics of received emails\\' size',\n",
    "    'statistics of received emails\\' size',\n",
    "    'number of unique senders of received emails',\n",
    "    'proportion of emails received from telstra',\n",
    "    'proportion of emails received from outside telstra']"
   ]
  },
  {
   "cell_type": "code",
   "execution_count": 3,
   "metadata": {},
   "outputs": [],
   "source": [
    "data = pd.read_pickle('parsed_data.pkl')\n",
    "users = list(data['sender_data'].keys())\n",
    "\n",
    "BETA = 0.05\n",
    "TAU = 0.9"
   ]
  },
  {
   "cell_type": "code",
   "execution_count": 6,
   "metadata": {},
   "outputs": [],
   "source": [
    "# date windows\n",
    "window = 4\n",
    "date_windows = []\n",
    "n_windows = len(SPE) // (2*window) + 1\n",
    "start = 0\n",
    "for i in range(n_windows):\n",
    "    end = start + 2*window\n",
    "    date_windows.append((start, end))\n",
    "    start = end"
   ]
  },
  {
   "cell_type": "code",
   "execution_count": 5,
   "metadata": {},
   "outputs": [
    {
     "name": "stderr",
     "output_type": "stream",
     "text": [
      "100%|██████████| 1683/1683 [00:30<00:00, 54.97it/s]\n"
     ]
    }
   ],
   "source": [
    "n_anomalies = []\n",
    "for user in tqdm(users):\n",
    "    user_send_data = data['sender_data'][user]\n",
    "    user_receive_data = data['recipient_data'][user]\n",
    "    features = get_user_features(user, user_send_data, user_receive_data)\n",
    "    X = scale(features)\n",
    "    SPE, Q = train_model(X, BETA, TAU)\n",
    "    n_anomalies.append(count_anomalies(SPE, Q))"
   ]
  },
  {
   "cell_type": "code",
   "execution_count": 9,
   "metadata": {},
   "outputs": [],
   "source": [
    "n_anomalies = np.array(n_anomalies)\n",
    "user_idxs_to_report = np.where((n_anomalies > 3).sum(1) != 0)[0]"
   ]
  },
  {
   "cell_type": "code",
   "execution_count": 10,
   "metadata": {},
   "outputs": [
    {
     "name": "stdout",
     "output_type": "stream",
     "text": [
      "Sarah.Rediger@team.telstra.com\n",
      "Anomaly on 2017-07-20 due to statistics of received emails' size\n",
      "Anomaly on 2017-07-21 due to statistics of sent emails' size\n",
      "Anomaly on 2017-07-22 due to statistics of received emails' size\n",
      "Anomaly on 2017-07-24 due to statistics of sent emails' size\n",
      "\n",
      "Nick.Martin@team.telstra.com\n",
      "Anomaly on 2017-07-17 due to statistics of sent emails' size\n",
      "Anomaly on 2017-07-19 due to proportion of emails sent to telstra\n",
      "Anomaly on 2017-07-21 due to statistics of number of recipients\n",
      "Anomaly on 2017-07-24 due to statistics of received emails' size\n",
      "\n",
      "Sakshi.Rathore@team.telstra.com\n",
      "Anomaly on 2017-07-03 due to statistics of sent emails' size\n",
      "Anomaly on 2017-07-04 due to statistics of sent emails' size\n",
      "Anomaly on 2017-07-05 due to statistics of sent emails' size\n",
      "Anomaly on 2017-07-06 due to statistics of received emails' size\n",
      "\n",
      "Rajashekar.Reddy@team.telstra.com\n",
      "Anomaly on 2017-07-18 due to proportion of emails sent to telstra\n",
      "Anomaly on 2017-07-19 due to statistics of received emails' size\n",
      "Anomaly on 2017-07-23 due to number of received emails\n",
      "Anomaly on 2017-07-24 due to statistics of sent emails' size\n",
      "\n",
      "Glenn.Carmichael@team.telstra.com\n",
      "Anomaly on 2017-07-02 due to statistics of received emails' size\n",
      "Anomaly on 2017-07-03 due to statistics of sent emails' size\n",
      "Anomaly on 2017-07-04 due to statistics of sent emails' size\n",
      "Anomaly on 2017-07-05 due to statistics of received emails' size\n",
      "Anomaly on 2017-07-07 due to statistics of sent emails' size\n",
      "\n",
      "Alan.Glenville@team.telstra.com\n",
      "Anomaly on 2017-07-17 due to statistics of sent emails' size\n",
      "Anomaly on 2017-07-18 due to proportion of emails sent to telstra\n",
      "Anomaly on 2017-07-20 due to statistics of sent emails' size\n",
      "Anomaly on 2017-07-24 due to statistics of received emails' size\n",
      "\n",
      "rohan.j.baxter@team.telstra.com\n",
      "Anomaly on 2017-07-09 due to statistics of sent emails' size\n",
      "Anomaly on 2017-07-11 due to statistics of received emails' size\n",
      "Anomaly on 2017-07-12 due to statistics of received emails' size\n",
      "Anomaly on 2017-07-16 due to number of sent emails\n",
      "\n",
      "Richard.Hyde@team.telstra.com\n",
      "Anomaly on 2017-07-09 due to proportion of emails received from telstra\n",
      "Anomaly on 2017-07-14 due to statistics of received emails' size\n",
      "Anomaly on 2017-07-15 due to proportion of emails received from telstra\n",
      "Anomaly on 2017-07-16 due to statistics of received emails' size\n",
      "\n",
      "Khayam.Alcantara@telstrawholesale.com\n",
      "Anomaly on 2017-07-19 due to statistics of received emails' size\n",
      "Anomaly on 2017-07-20 due to statistics of sent emails' size\n",
      "Anomaly on 2017-07-21 due to statistics of number of recipients\n",
      "Anomaly on 2017-07-24 due to statistics of received emails' size\n",
      "\n",
      "Hugh.Brislan@team.telstra.com\n",
      "Anomaly on 2017-07-01 due to proportion of emails received from telstra\n",
      "Anomaly on 2017-07-02 due to proportion of emails received from telstra\n",
      "Anomaly on 2017-07-03 due to statistics of received emails' size\n",
      "Anomaly on 2017-07-08 due to proportion of emails received from telstra\n",
      "\n",
      "Hesham.Mostafa@team.telstra.com\n",
      "Anomaly on 2017-07-01 due to proportion of emails received from telstra\n",
      "Anomaly on 2017-07-04 due to proportion of emails sent to telstra\n",
      "Anomaly on 2017-07-06 due to statistics of received emails' size\n",
      "Anomaly on 2017-07-08 due to proportion of emails received from telstra\n",
      "\n",
      "FilRodulph.Tidoso@team.telstra.com\n",
      "Anomaly on 2017-07-10 due to number of sent emails\n",
      "Anomaly on 2017-07-11 due to statistics of received emails' size\n",
      "Anomaly on 2017-07-12 due to statistics of sent emails' size\n",
      "Anomaly on 2017-07-13 due to statistics of sent emails' size\n",
      "\n",
      "Francisca.DeGuia@team.telstra.com\n",
      "Anomaly on 2017-07-09 due to proportion of emails sent to telstra\n",
      "Anomaly on 2017-07-13 due to statistics of received emails' size\n",
      "Anomaly on 2017-07-15 due to proportion of emails sent to telstra\n",
      "Anomaly on 2017-07-16 due to statistics of number of recipients\n",
      "\n",
      "Pavani.Valli@team.telstra.com\n",
      "Anomaly on 2017-07-01 due to statistics of received emails' size\n",
      "Anomaly on 2017-07-02 due to proportion of emails sent to telstra\n",
      "Anomaly on 2017-07-05 due to number of received emails\n",
      "Anomaly on 2017-07-08 due to proportion of emails sent to telstra\n",
      "\n",
      "Maggie.Zhou@team.telstra.com\n",
      "Anomaly on 2017-07-09 due to statistics of received emails' size\n",
      "Anomaly on 2017-07-14 due to statistics of sent emails' size\n",
      "Anomaly on 2017-07-15 due to statistics of sent emails' size\n",
      "Anomaly on 2017-07-16 due to statistics of received emails' size\n",
      "\n",
      "Tyronne.Anderson@team.telstra.com\n",
      "Anomaly on 2017-07-10 due to statistics of number of recipients\n",
      "Anomaly on 2017-07-11 due to statistics of sent emails' size\n",
      "Anomaly on 2017-07-12 due to statistics of received emails' size\n",
      "Anomaly on 2017-07-13 due to statistics of sent emails' size\n",
      "\n",
      "Jarad.Wong@team.telstra.com\n",
      "Anomaly on 2017-07-01 due to statistics of sent emails' size\n",
      "Anomaly on 2017-07-02 due to proportion of emails received from telstra\n",
      "Anomaly on 2017-07-07 due to proportion of emails sent to telstra\n",
      "Anomaly on 2017-07-08 due to proportion of emails received from telstra\n",
      "\n"
     ]
    }
   ],
   "source": [
    "for user_idx in user_idxs_to_report:\n",
    "    \n",
    "    user = users[user_idx]\n",
    "\n",
    "    user_send_data = data['sender_data'][user]\n",
    "    user_receive_data = data['recipient_data'][user]\n",
    "    features = get_user_features(user, user_send_data, user_receive_data)\n",
    "    X = scale(features)\n",
    "    SPE, Q = train_model(X, BETA, TAU)\n",
    "\n",
    "    date_window = date_windows[np.argmax(count_anomalies(SPE, Q))]\n",
    "    day_idxs = np.where(SPE>Q)[0]\n",
    "    idxs = (day_idxs>=date_window[0]) & (day_idxs<date_window[1])\n",
    "    days_to_report = day_idxs[idxs]\n",
    "\n",
    "    print(user)\n",
    "    for dd in days_to_report:\n",
    "        print('Anomaly on {} due to {}'.format(\n",
    "            pd.to_datetime('2017-07-{}'.format(dd+1)).date(),\n",
    "            feature_labels[X[dd].argmax()]\n",
    "            )\n",
    "        )\n",
    "    print()    "
   ]
  }
 ],
 "metadata": {
  "kernelspec": {
   "display_name": "Python 3",
   "language": "python",
   "name": "python3"
  },
  "language_info": {
   "codemirror_mode": {
    "name": "ipython",
    "version": 3
   },
   "file_extension": ".py",
   "mimetype": "text/x-python",
   "name": "python",
   "nbconvert_exporter": "python",
   "pygments_lexer": "ipython3",
   "version": "3.5.2"
  }
 },
 "nbformat": 4,
 "nbformat_minor": 2
}
